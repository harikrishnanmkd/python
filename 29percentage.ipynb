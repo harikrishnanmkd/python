{
 "cells": [
  {
   "cell_type": "code",
   "execution_count": 11,
   "metadata": {},
   "outputs": [
    {
     "name": "stdout",
     "output_type": "stream",
     "text": [
      "Enter how much classes held:100\n",
      "Enter how much classes attended:50\n",
      "50 is the percentage of attendence\n",
      "Not allowed for exam\n"
     ]
    }
   ],
   "source": [
    "a=int(input(\"Enter how much classes held:\"))\n",
    "b=int(input(\"Enter how much classes attended:\"))\n",
    "per=(b/a)*100\n",
    "print(\"%d is the percentage of attendence\" %per)\n",
    "if(per>=75):\n",
    "    print(\"Allowed for exam\")\n",
    "else:\n",
    "    print(\"Not allowed for exam\")\n"
   ]
  },
  {
   "cell_type": "code",
   "execution_count": null,
   "metadata": {
    "collapsed": true
   },
   "outputs": [],
   "source": []
  },
  {
   "cell_type": "code",
   "execution_count": null,
   "metadata": {
    "collapsed": true
   },
   "outputs": [],
   "source": []
  }
 ],
 "metadata": {
  "kernelspec": {
   "display_name": "Python 3",
   "language": "python",
   "name": "python3"
  },
  "language_info": {
   "codemirror_mode": {
    "name": "ipython",
    "version": 3
   },
   "file_extension": ".py",
   "mimetype": "text/x-python",
   "name": "python",
   "nbconvert_exporter": "python",
   "pygments_lexer": "ipython3",
   "version": "3.6.3"
  }
 },
 "nbformat": 4,
 "nbformat_minor": 2
}
