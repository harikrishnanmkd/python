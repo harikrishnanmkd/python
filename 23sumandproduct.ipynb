{
 "cells": [
  {
   "cell_type": "code",
   "execution_count": 3,
   "metadata": {},
   "outputs": [
    {
     "name": "stdout",
     "output_type": "stream",
     "text": [
      "Enter the 1st integer number:86\n",
      "Enter the 2nd integer number:98\n",
      "184 is their sum\n"
     ]
    }
   ],
   "source": [
    "a=int(input(\"Enter the 1st integer number:\"))\n",
    "b=int(input(\"Enter the 2nd integer number:\"))\n",
    "product=a*b\n",
    "sum=a+b\n",
    "if(product>1000):\n",
    "    print(\"%d is their sum\"%sum)\n",
    "else:\n",
    "    print(\"%d is the product\"%product)\n"
   ]
  },
  {
   "cell_type": "code",
   "execution_count": null,
   "metadata": {
    "collapsed": true
   },
   "outputs": [],
   "source": []
  }
 ],
 "metadata": {
  "kernelspec": {
   "display_name": "Python 3",
   "language": "python",
   "name": "python3"
  },
  "language_info": {
   "codemirror_mode": {
    "name": "ipython",
    "version": 3
   },
   "file_extension": ".py",
   "mimetype": "text/x-python",
   "name": "python",
   "nbconvert_exporter": "python",
   "pygments_lexer": "ipython3",
   "version": "3.6.3"
  }
 },
 "nbformat": 4,
 "nbformat_minor": 2
}
