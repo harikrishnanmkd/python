{
 "cells": [
  {
   "cell_type": "code",
   "execution_count": 5,
   "metadata": {},
   "outputs": [
    {
     "name": "stdout",
     "output_type": "stream",
     "text": [
      "Enter numbers seperated by comma:2,4,6,8\n",
      "Average value of the numbers in a given tuple 5.0\n"
     ]
    }
   ],
   "source": [
    "#49 calculate the average value of the numbers in a given tuple.\n",
    "t=tuple(input(\"Enter numbers seperated by comma:\").split(\",\"))\n",
    "l=len(t)\n",
    "c=0\n",
    "for i in range(l):\n",
    "    c=int(t[i])+c\n",
    "    avg=c/l\n",
    "print(\"Average value of the numbers in a given tuple\",avg)\n"
   ]
  },
  {
   "cell_type": "code",
   "execution_count": 16,
   "metadata": {},
   "outputs": [
    {
     "name": "stdout",
     "output_type": "stream",
     "text": [
      "Enter the numbers seperated by comma:1,23,4,5\n",
      "Positive integers in the list: [1, 23, 4, 5]\n",
      "Square of  numbers [1, 529, 16, 25]\n",
      "Enter the word:hari\n",
      "The Vowels are: ['a', 'i']\n",
      "the ordinal values of the word hari is [104, 97, 114, 105]\n"
     ]
    }
   ],
   "source": [
    "#50 Comperhension List\n",
    "n=input(\"Enter the numbers seperated by comma:\").split(\",\")\n",
    "b=map(int,n)\n",
    "nl=[x for x in b if x>0]\n",
    "print(\"Positive integers in the list:\",nl)\n",
    "d=map(int,n)\n",
    "\n",
    "#square of n numbers\n",
    "nl2=[x**2 for x in d]\n",
    "print( \"Square of  numbers\",nl2)\n",
    "#vowels\n",
    "\n",
    "w=input(\"Enter the word:\")\n",
    "vowels=[\"a\",\"e\",\"i\",\"o\",\"u\",'A','E','i','O','U']\n",
    "list=[v for v in w if any(char in vowels for char in v)]\n",
    "print(\"The Vowels are:\",list)\n",
    "z=[ord(x) for x in w]\n",
    "print(\"The ordinal values of the word %s is %s\"%(w,z))\n",
    " "
   ]
  },
  {
   "cell_type": "code",
   "execution_count": 52,
   "metadata": {},
   "outputs": [
    {
     "name": "stdout",
     "output_type": "stream",
     "text": [
      "Enter an integer (enter 'done' to stop): 50\n",
      "Enter an integer (enter 'done' to stop): 60\n",
      "Enter an integer (enter 'done' to stop): 100\n",
      "Enter an integer (enter 'done' to stop): 180\n",
      "Enter an integer (enter 'done' to stop): 200\n",
      "Enter an integer (enter 'done' to stop): done\n",
      "[50, 60, 100, 'over', 'over']\n"
     ]
    }
   ],
   "source": [
    "#51 Prompt the user for a list of integers. For all values greater than 100, store ‘over’ instead\n",
    "values = []\n",
    "while True:\n",
    "  value = input(\"Enter an integer (enter 'done' to stop): \")\n",
    "  if value == 'done':\n",
    "    break\n",
    "  elif int(value) > 100:\n",
    "    values.append('over')\n",
    "  else:\n",
    "    values.append(int(value))\n",
    "print(values)\n"
   ]
  },
  {
   "cell_type": "code",
   "execution_count": 49,
   "metadata": {},
   "outputs": [
    {
     "name": "stdout",
     "output_type": "stream",
     "text": [
      "Difference of color list1 and color list2:\n",
      "{'Black', 'Yellow'}\n"
     ]
    }
   ],
   "source": [
    "#54 Print out all colors from color-list1 not contained in color-list2\n",
    "clr1 = set([\"Yellow\", \"Black\", \"Red\"])\n",
    "clr2 = set([\"Red\", \"white\"])\n",
    "print(\"Difference of color list1 and color list2:\")\n",
    "print(clr1.difference(clr2))\n"
   ]
  },
  {
   "cell_type": "code",
   "execution_count": 6,
   "metadata": {},
   "outputs": [
    {
     "name": "stdout",
     "output_type": "stream",
     "text": [
      "List Items =  [11, 22, 31, 44, 51, 65, 71, 86, 91]\n",
      "List after removing even Numbers =  [11, 31, 51, 65, 71, 91]\n"
     ]
    }
   ],
   "source": [
    "#55 Remove even numbers from list\n",
    "List = [11, 22, 31, 44, 51, 65, 71, 86, 91]\n",
    "print(\"List Items = \", List)\n",
    "\n",
    "for even in List:\n",
    "    if (even % 2 == 0):\n",
    "        List.remove(even)\n",
    "   \n",
    "print(\"List after removing even Numbers = \", List)\n"
   ]
  },
  {
   "cell_type": "code",
   "execution_count": null,
   "metadata": {},
   "outputs": [],
   "source": []
  },
  {
   "cell_type": "code",
   "execution_count": 19,
   "metadata": {},
   "outputs": [
    {
     "name": "stdout",
     "output_type": "stream",
     "text": [
      "First dictionary: {1: 'palakkad', 2: 'kochi', 3: 'Kottayam'}\n",
      "Second dictionary: {4: 'Thiruvananthapuram', 5: 'Ernamkulam'}\n",
      "Merging two dictionaries: {1: 'palakkad', 2: 'kochi', 3: 'Kottayam', 4: 'Thiruvananthapuram', 5: 'Ernamkulam'}\n"
     ]
    }
   ],
   "source": [
    "#57 Merge dictionaries.\n",
    "d1={1:'palakkad',2:'kochi',3:'Kottayam'}\n",
    "d2={4:'Thiruvananthapuram',5:'Ernamkulam',}\n",
    "print(\"First dictionary:\",d1)\n",
    "print(\"Second dictionary:\",d2)\n",
    "d3=d1\n",
    "d1.update(d2)\n",
    "print(\"Merging two dictionaries:\",d3)"
   ]
  },
  {
   "cell_type": "code",
   "execution_count": null,
   "metadata": {
    "collapsed": true
   },
   "outputs": [],
   "source": []
  }
 ],
 "metadata": {
  "kernelspec": {
   "display_name": "Python 3",
   "language": "python",
   "name": "python3"
  },
  "language_info": {
   "codemirror_mode": {
    "name": "ipython",
    "version": 3
   },
   "file_extension": ".py",
   "mimetype": "text/x-python",
   "name": "python",
   "nbconvert_exporter": "python",
   "pygments_lexer": "ipython3",
   "version": "3.6.3"
  }
 },
 "nbformat": 4,
 "nbformat_minor": 2
}
