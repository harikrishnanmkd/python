{
 "cells": [
  {
   "cell_type": "code",
   "execution_count": 4,
   "metadata": {},
   "outputs": [
    {
     "name": "stdout",
     "output_type": "stream",
     "text": [
      "Enter the number:13\n",
      "Enter the number:3\n",
      "GCD of 13 and 3 is 1\n"
     ]
    }
   ],
   "source": [
    "#Find the greatest common dividor(GCD)\n",
    "n1=int(input(\"Enter the number:\"))\n",
    "n2=int(input(\"Enter the number:\"))\n",
    "if(n1>n2):\n",
    "    c=n2\n",
    "else:\n",
    "    c=n1\n",
    "while(c>0):\n",
    "    if(n1%c==0)and(n2%c==0):\n",
    "        print(\"GCD of\",n1,\"and\",n2,\"is\",c)\n",
    "        break\n",
    "    c=c-1"
   ]
  },
  {
   "cell_type": "code",
   "execution_count": null,
   "metadata": {
    "collapsed": true
   },
   "outputs": [],
   "source": []
  }
 ],
 "metadata": {
  "kernelspec": {
   "display_name": "Python 3",
   "language": "python",
   "name": "python3"
  },
  "language_info": {
   "codemirror_mode": {
    "name": "ipython",
    "version": 3
   },
   "file_extension": ".py",
   "mimetype": "text/x-python",
   "name": "python",
   "nbconvert_exporter": "python",
   "pygments_lexer": "ipython3",
   "version": "3.6.3"
  }
 },
 "nbformat": 4,
 "nbformat_minor": 2
}
