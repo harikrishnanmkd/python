{
 "cells": [
  {
   "cell_type": "code",
   "execution_count": 4,
   "metadata": {},
   "outputs": [
    {
     "name": "stdout",
     "output_type": "stream",
     "text": [
      "Enter 1st number:20\n",
      "Enter 2nd number:40\n",
      "Enter 3rd number:-50\n",
      "40 is larger\n"
     ]
    }
   ],
   "source": [
    "a=float(input(\"Enter 1st number:\"))\n",
    "b=float(input(\"Enter 2nd number:\"))\n",
    "c=float(input(\"Enter 3rd number:\"))\n",
    "if(a>b) and (a>c):\n",
    "    print(\"%d is larger\" %a)\n",
    "elif(b>a) and (b>c):\n",
    "     print(\"%d is larger\" %b)\n",
    "else:\n",
    "    print(\"%d is larger\" %c)\n"
   ]
  },
  {
   "cell_type": "code",
   "execution_count": null,
   "metadata": {
    "collapsed": true
   },
   "outputs": [],
   "source": []
  }
 ],
 "metadata": {
  "kernelspec": {
   "display_name": "Python 3",
   "language": "python",
   "name": "python3"
  },
  "language_info": {
   "codemirror_mode": {
    "name": "ipython",
    "version": 3
   },
   "file_extension": ".py",
   "mimetype": "text/x-python",
   "name": "python",
   "nbconvert_exporter": "python",
   "pygments_lexer": "ipython3",
   "version": "3.6.3"
  }
 },
 "nbformat": 4,
 "nbformat_minor": 2
}
