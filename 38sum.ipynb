{
 "cells": [
  {
   "cell_type": "code",
   "execution_count": 1,
   "metadata": {},
   "outputs": [
    {
     "name": "stdout",
     "output_type": "stream",
     "text": [
      "Enter numbers with comma separated:1,2,3,5,8\n",
      "sum of elements in list  ['1', '2', '3', '5', '8'] is:  19\n"
     ]
    }
   ],
   "source": [
    "#sum of all items in a list\n",
    "a=input(\"Enter numbers with comma separated:\")\n",
    "b=a.split(\",\")\n",
    "l=len(b)\n",
    "d=0\n",
    "i=0\n",
    "for i in range(l):\n",
    "    c=int(b[i])\n",
    "    d=d+c\n",
    "print(\"sum of elements in list \",b,\"is: \",d)"
   ]
  },
  {
   "cell_type": "code",
   "execution_count": null,
   "metadata": {
    "collapsed": true
   },
   "outputs": [],
   "source": []
  },
  {
   "cell_type": "code",
   "execution_count": null,
   "metadata": {
    "collapsed": true
   },
   "outputs": [],
   "source": []
  }
 ],
 "metadata": {
  "kernelspec": {
   "display_name": "Python 3",
   "language": "python",
   "name": "python3"
  },
  "language_info": {
   "codemirror_mode": {
    "name": "ipython",
    "version": 3
   },
   "file_extension": ".py",
   "mimetype": "text/x-python",
   "name": "python",
   "nbconvert_exporter": "python",
   "pygments_lexer": "ipython3",
   "version": "3.6.3"
  }
 },
 "nbformat": 4,
 "nbformat_minor": 2
}
