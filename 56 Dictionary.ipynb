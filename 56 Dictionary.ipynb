{
 "cells": [
  {
   "cell_type": "code",
   "execution_count": 3,
   "metadata": {},
   "outputs": [
    {
     "name": "stdout",
     "output_type": "stream",
     "text": [
      "Ascending order is: [('arun', 1), ('kichu', 21), ('vysh', 28)]\n",
      "Descending order is: [('vysh', 28), ('kichu', 21), ('arun', 1)]\n"
     ]
    }
   ],
   "source": [
    "56 #sorting in ascending and descending\n",
    "dic={'arun':1,'vysh':28,'kichu':21}\n",
    "l=list(dic.items())\n",
    "l.sort()            \n",
    "print('Ascending order is:',l)\n",
    "l.sort(reverse=True)\n",
    "print('Descending order is:',l)\n"
   ]
  },
  {
   "cell_type": "code",
   "execution_count": null,
   "metadata": {
    "collapsed": true
   },
   "outputs": [],
   "source": []
  }
 ],
 "metadata": {
  "kernelspec": {
   "display_name": "Python 3",
   "language": "python",
   "name": "python3"
  },
  "language_info": {
   "codemirror_mode": {
    "name": "ipython",
    "version": 3
   },
   "file_extension": ".py",
   "mimetype": "text/x-python",
   "name": "python",
   "nbconvert_exporter": "python",
   "pygments_lexer": "ipython3",
   "version": "3.6.3"
  }
 },
 "nbformat": 4,
 "nbformat_minor": 2
}
