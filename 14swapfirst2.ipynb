{
 "cells": [
  {
   "cell_type": "code",
   "execution_count": 2,
   "metadata": {},
   "outputs": [
    {
     "name": "stdout",
     "output_type": "stream",
     "text": [
      "Enter 1st string: Hello\n",
      "Enter 2nd string: hari\n",
      "New string is:  hallo Heri\n"
     ]
    }
   ],
   "source": [
    "str=input(\"Enter 1st string: \")\n",
    "str2=input(\"Enter 2nd string: \")\n",
    "x=str2[0:2]+str[2:]+\" \"+str[0:2]+str2[2:]\n",
    "print(\"New string is: \",x)"
   ]
  },
  {
   "cell_type": "code",
   "execution_count": null,
   "metadata": {
    "collapsed": true
   },
   "outputs": [],
   "source": []
  }
 ],
 "metadata": {
  "kernelspec": {
   "display_name": "Python 3",
   "language": "python",
   "name": "python3"
  },
  "language_info": {
   "codemirror_mode": {
    "name": "ipython",
    "version": 3
   },
   "file_extension": ".py",
   "mimetype": "text/x-python",
   "name": "python",
   "nbconvert_exporter": "python",
   "pygments_lexer": "ipython3",
   "version": "3.6.3"
  }
 },
 "nbformat": 4,
 "nbformat_minor": 2
}
