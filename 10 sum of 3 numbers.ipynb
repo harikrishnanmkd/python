{
 "cells": [
  {
   "cell_type": "code",
   "execution_count": 1,
   "metadata": {},
   "outputs": [
    {
     "name": "stdout",
     "output_type": "stream",
     "text": [
      "Enter first no.20\n",
      "Enter second no.30\n",
      "Enter third no.40\n",
      "Sum of 3 nos is 90\n"
     ]
    }
   ],
   "source": [
    "a=int(input(\"Enter first no.\"))\n",
    "b=int(input(\"Enter second no.\"))\n",
    "c=int(input(\"Enter third no.\"))\n",
    "sum=a+b+c\n",
    "print(\"Sum of 3 nos is\",sum)"
   ]
  },
  {
   "cell_type": "code",
   "execution_count": null,
   "metadata": {
    "collapsed": true
   },
   "outputs": [],
   "source": []
  }
 ],
 "metadata": {
  "kernelspec": {
   "display_name": "Python 3",
   "language": "python",
   "name": "python3"
  },
  "language_info": {
   "codemirror_mode": {
    "name": "ipython",
    "version": 3
   },
   "file_extension": ".py",
   "mimetype": "text/x-python",
   "name": "python",
   "nbconvert_exporter": "python",
   "pygments_lexer": "ipython3",
   "version": "3.6.3"
  }
 },
 "nbformat": 4,
 "nbformat_minor": 2
}
