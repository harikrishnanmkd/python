{
 "cells": [
  {
   "cell_type": "code",
   "execution_count": 1,
   "metadata": {},
   "outputs": [
    {
     "name": "stdout",
     "output_type": "stream",
     "text": [
      "Enter the principal amount:100000\n",
      "Enter Number of year:5\n",
      "Enter rate of interest:2.5\n",
      "simple interest is: 12500.0\n"
     ]
    }
   ],
   "source": [
    "p=float(input(\"Enter the principal amount:\"))\n",
    "n=float(input(\"Enter Number of year:\"))\n",
    "r=float(input(\"Enter rate of interest:\"))\n",
    "SI=(p*n*r)/100\n",
    "print(\"simple interest is:\",SI)"
   ]
  },
  {
   "cell_type": "code",
   "execution_count": null,
   "metadata": {
    "collapsed": true
   },
   "outputs": [],
   "source": []
  }
 ],
 "metadata": {
  "kernelspec": {
   "display_name": "Python 3",
   "language": "python",
   "name": "python3"
  },
  "language_info": {
   "codemirror_mode": {
    "name": "ipython",
    "version": 3
   },
   "file_extension": ".py",
   "mimetype": "text/x-python",
   "name": "python",
   "nbconvert_exporter": "python",
   "pygments_lexer": "ipython3",
   "version": "3.6.3"
  }
 },
 "nbformat": 4,
 "nbformat_minor": 2
}
