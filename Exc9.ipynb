{
 "cells": [
  {
   "cell_type": "code",
   "execution_count": 6,
   "metadata": {},
   "outputs": [
    {
     "name": "stdout",
     "output_type": "stream",
     "text": [
      "Enter 4 digit lower range: 4224\n",
      "Enter 4 digit upper range: 8428\n",
      "list:  [4624, 6084, 6400]\n"
     ]
    }
   ],
   "source": [
    "#list of four digit numbers in a given range with all their digits even and the number is a perfect square.\n",
    "import math\n",
    "n1=int(input(\"Enter 4 digit lower range: \"))\n",
    "n2=int(input(\"Enter 4 digit upper range: \"))\n",
    "l=[]\n",
    "x=0\n",
    "for i in range (n1,n2):\n",
    "    x=i\n",
    "    while(x!=0):\n",
    "        k1=x%10\n",
    "        x=int(x/10)\n",
    "        k2=x%10\n",
    "        x=int(x/10)\n",
    "        k3=x%10\n",
    "        x=int(x/10)\n",
    "        k4 = x%10\n",
    "        x = int(x / 10)\n",
    "        sq=int(math.sqrt(i))\n",
    "        if (sq*sq==i):\n",
    "            if (k1%2==0 and k2%2==0 and k3%2==0 and k4%2==0):\n",
    "                l.append(i)\n",
    "print(\"list: \",l)\n",
    "        \n",
    "    "
   ]
  },
  {
   "cell_type": "code",
   "execution_count": 12,
   "metadata": {},
   "outputs": [
    {
     "name": "stdout",
     "output_type": "stream",
     "text": [
      "Enter a word: Aly\n",
      "New word:  Alying\n"
     ]
    }
   ],
   "source": [
    "#Add ‘ing’ at the end of a given string. If it already ends with ‘ing’, then add ‘ly’\n",
    "word=input(\"Enter a word: \")\n",
    "str1=word[-3:]\n",
    "if str1=='ing':\n",
    "    word=word+'ly'\n",
    "else:\n",
    "    word=word+'ing'\n",
    "print(\"New word: \",word)"
   ]
  },
  {
   "cell_type": "code",
   "execution_count": 13,
   "metadata": {},
   "outputs": [
    {
     "name": "stdout",
     "output_type": "stream",
     "text": [
      "Enter a list of words with comma seperated: hari,vysh,kichu\n",
      "Length of longest word:  5\n"
     ]
    }
   ],
   "source": [
    "#Accept a list of words and return length of longest word.\n",
    "l1=[]\n",
    "l=list(map(str,input(\"Enter a list of words with comma seperated: \").split(\",\")))\n",
    "for i in l:\n",
    "    l1.append(len(i))\n",
    "print(\"Length of longest word: \",max(l1))\n",
    "    "
   ]
  },
  {
   "cell_type": "code",
   "execution_count": null,
   "metadata": {
    "collapsed": true
   },
   "outputs": [],
   "source": []
  }
 ],
 "metadata": {
  "kernelspec": {
   "display_name": "Python 3",
   "language": "python",
   "name": "python3"
  },
  "language_info": {
   "codemirror_mode": {
    "name": "ipython",
    "version": 3
   },
   "file_extension": ".py",
   "mimetype": "text/x-python",
   "name": "python",
   "nbconvert_exporter": "python",
   "pygments_lexer": "ipython3",
   "version": "3.6.3"
  }
 },
 "nbformat": 4,
 "nbformat_minor": 2
}
